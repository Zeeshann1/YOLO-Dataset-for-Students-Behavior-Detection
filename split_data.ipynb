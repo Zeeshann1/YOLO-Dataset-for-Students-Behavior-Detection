{
 "cells": [
  {
   "cell_type": "code",
   "execution_count": 1,
   "id": "a234ebe4",
   "metadata": {},
   "outputs": [
    {
     "name": "stdout",
     "output_type": "stream",
     "text": [
      "train set size:1252 val set size:140 test set size:348\n"
     ]
    }
   ],
   "source": [
    "import os, shutil\n",
    "from sklearn.model_selection import train_test_split\n",
    "\n",
    "val_size = 0.1\n",
    "test_size = 0.2\n",
    "postfix = 'jpg'\n",
    "imgpath = 'VOCdevkit/JPEGImages'\n",
    "txtpath = 'VOCdevkit/txt'\n",
    "\n",
    "os.makedirs('images/train', exist_ok=True)\n",
    "os.makedirs('images/val', exist_ok=True)\n",
    "os.makedirs('images/test', exist_ok=True)\n",
    "os.makedirs('labels/train', exist_ok=True)\n",
    "os.makedirs('labels/val', exist_ok=True)\n",
    "os.makedirs('labels/test', exist_ok=True)\n",
    "\n",
    "listdir = [i for i in os.listdir(txtpath) if 'txt' in i]\n",
    "train, test = train_test_split(listdir, test_size=test_size, shuffle=True, random_state=0)\n",
    "train, val = train_test_split(train, test_size=val_size, shuffle=True, random_state=0)\n",
    "print(f'train set size:{len(train)} val set size:{len(val)} test set size:{len(test)}')\n",
    "\n",
    "for i in train:\n",
    "    shutil.copy('{}/{}.{}'.format(imgpath, i[:-4], postfix), 'images/train/{}.{}'.format(i[:-4], postfix))\n",
    "    shutil.copy('{}/{}'.format(txtpath, i), 'labels/train/{}'.format(i))\n",
    "\n",
    "for i in val:\n",
    "    shutil.copy('{}/{}.{}'.format(imgpath, i[:-4], postfix), 'images/val/{}.{}'.format(i[:-4], postfix))\n",
    "    shutil.copy('{}/{}'.format(txtpath, i), 'labels/val/{}'.format(i))\n",
    "\n",
    "for i in test:\n",
    "    shutil.copy('{}/{}.{}'.format(imgpath, i[:-4], postfix), 'images/test/{}.{}'.format(i[:-4], postfix))\n",
    "    shutil.copy('{}/{}'.format(txtpath, i), 'labels/test/{}'.format(i))"
   ]
  },
  {
   "cell_type": "code",
   "execution_count": null,
   "id": "3f542bec",
   "metadata": {},
   "outputs": [],
   "source": []
  }
 ],
 "metadata": {
  "kernelspec": {
   "display_name": "Python 3 (ipykernel)",
   "language": "python",
   "name": "python3"
  },
  "language_info": {
   "codemirror_mode": {
    "name": "ipython",
    "version": 3
   },
   "file_extension": ".py",
   "mimetype": "text/x-python",
   "name": "python",
   "nbconvert_exporter": "python",
   "pygments_lexer": "ipython3",
   "version": "3.9.13"
  }
 },
 "nbformat": 4,
 "nbformat_minor": 5
}
